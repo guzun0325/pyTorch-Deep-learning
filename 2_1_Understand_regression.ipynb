{
  "cells": [
    {
      "cell_type": "markdown",
      "metadata": {
        "id": "view-in-github",
        "colab_type": "text"
      },
      "source": [
        "<a href=\"https://colab.research.google.com/github/guzun0325/pyTorch-Deep-learning/blob/main/2_1_Understand_regression.ipynb\" target=\"_parent\"><img src=\"https://colab.research.google.com/assets/colab-badge.svg\" alt=\"Open In Colab\"/></a>"
      ]
    },
    {
      "cell_type": "code",
      "execution_count": null,
      "metadata": {
        "id": "__UqpfWmZk_M"
      },
      "outputs": [],
      "source": [
        "import torch\n",
        "import torch.nn as nn\n",
        "import torch.utils.data as Data\n",
        "import numpy as np\n",
        "from sklearn.model_selection import train_test_split\n",
        "import matplotlib.pyplot as plt"
      ]
    },
    {
      "cell_type": "code",
      "execution_count": null,
      "metadata": {
        "colab": {
          "base_uri": "https://localhost:8080/"
        },
        "id": "ABW0dcklZddi",
        "outputId": "53ee09eb-cde2-44d7-d46f-c4e633104803"
      },
      "outputs": [
        {
          "output_type": "stream",
          "name": "stdout",
          "text": [
            "cuda Tesla T4\n"
          ]
        }
      ],
      "source": [
        "if(torch.cuda.is_available()):\n",
        "    device = torch.device(\"cuda\")\n",
        "    print(device, torch.cuda.get_device_name(0))\n",
        "else:\n",
        "    device= torch.device(\"cpu\")\n",
        "    print(device)"
      ]
    },
    {
      "cell_type": "markdown",
      "metadata": {
        "id": "9IKumQZJbtg8"
      },
      "source": [
        "# Generate data"
      ]
    },
    {
      "cell_type": "code",
      "execution_count": null,
      "metadata": {
        "id": "eDKfqZTSYA6D"
      },
      "outputs": [],
      "source": [
        "# y without noises\n",
        "lstX=[]\n",
        "lstY=[]\n",
        "for i in range(5000):\n",
        "  x1 = np.random.normal(0.1, 0.5) # mean and standard deviation\n",
        "  x2 = np.random.normal(2, 0.8)\n",
        "  x3 = np.random.normal(0.5, 0.8)\n",
        "  x4 = np.random.normal(0.1, 3.5)\n",
        "  x5 = np.random.normal(5, 0.7)\n",
        "  x6 = np.random.normal(0.2, 0.3)\n",
        "  x7 = np.random.normal(9, 0.3)\n",
        "  y = 0.455*pow(x1,3)+0.111*x2+2.22*pow(x3,4)+0.888*pow(x4,3)+0.222*pow(x5,2)*x6+0.777*pow(x7,2)\n",
        "  lstX.append([x1, x2, x3, x4, x5, x6, x7])\n",
        "  lstY.append([y])"
      ]
    },
    {
      "cell_type": "code",
      "execution_count": null,
      "metadata": {
        "colab": {
          "base_uri": "https://localhost:8080/"
        },
        "id": "KyPxI--48wJe",
        "outputId": "01f5ba3c-8140-44c8-d4ea-3784bdcd3936"
      },
      "outputs": [
        {
          "output_type": "stream",
          "name": "stdout",
          "text": [
            "1923.288186683187 -1377.4467915958444 72.43377219596555 145.815796030216\n"
          ]
        }
      ],
      "source": [
        "numpyX = np.array(lstX)\n",
        "numpyY = np.array(lstY)\n",
        "print(np.max(numpyY), np.min(numpyY), np.mean(numpyY), np.std(numpyY))"
      ]
    },
    {
      "cell_type": "markdown",
      "metadata": {
        "id": "4s4g_ujnQajv"
      },
      "source": [
        "# Build NN"
      ]
    },
    {
      "cell_type": "code",
      "execution_count": null,
      "metadata": {
        "colab": {
          "base_uri": "https://localhost:8080/"
        },
        "id": "-MvLGgYaQajy",
        "outputId": "f128ba0d-7ec8-471b-a36b-12d4461f5b50"
      },
      "outputs": [
        {
          "output_type": "stream",
          "name": "stdout",
          "text": [
            "Sequential(\n",
            "  (0): Linear(in_features=7, out_features=56, bias=True)\n",
            "  (1): ReLU()\n",
            "  (2): Linear(in_features=56, out_features=56, bias=True)\n",
            "  (3): ReLU()\n",
            "  (4): Linear(in_features=56, out_features=1, bias=True)\n",
            ")\n"
          ]
        }
      ],
      "source": [
        "MyNet = nn.Sequential(\n",
        "    nn.Linear(7, 56),\n",
        "    nn.ReLU(),\n",
        "    nn.Linear(56, 56),\n",
        "    nn.ReLU(),\n",
        "    nn.Linear(56, 1),\n",
        ")\n",
        "MyNet.to(device)\n",
        "print(MyNet)"
      ]
    },
    {
      "cell_type": "markdown",
      "metadata": {
        "id": "yOKJidaQQakZ"
      },
      "source": [
        "# Run training-test 20 times"
      ]
    },
    {
      "cell_type": "code",
      "execution_count": null,
      "metadata": {
        "colab": {
          "base_uri": "https://localhost:8080/"
        },
        "id": "zdpYknvbQaka",
        "outputId": "c373bae7-971b-4d46-bf13-fd0750d771b2"
      },
      "outputs": [
        {
          "output_type": "stream",
          "name": "stdout",
          "text": [
            "\n",
            "Train-test  1 epoch: 100,200,\n",
            "Train-test  2 epoch: 100,200,\n",
            "Train-test  3 epoch: 100,200,\n",
            "Train-test  4 epoch: 100,200,\n",
            "Train-test  5 epoch: 100,200,\n",
            "Train-test  6 epoch: 100,200,\n",
            "Train-test  7 epoch: 100,200,\n",
            "Train-test  8 epoch: 100,200,\n",
            "Train-test  9 epoch: 100,200,\n",
            "Train-test  10 epoch: 100,200,"
          ]
        }
      ],
      "source": [
        "train_lossLst = []\n",
        "test_lossLst = []\n",
        "for i in range(1, 11):\n",
        "  print(\"\\nTrain-test \", i, end= \" \")\n",
        "  trainX, testX, trainY, testY = train_test_split(numpyX, numpyY, test_size=0.20, random_state=0)\n",
        "  tensorX = torch.FloatTensor(trainX).to(device)\n",
        "  tensorY = torch.FloatTensor(trainY).to(device)\n",
        "  torch_dataset = Data.TensorDataset(tensorX, tensorY)\n",
        "  loader = Data.DataLoader(\n",
        "      dataset=torch_dataset,\n",
        "      batch_size=500,\n",
        "      shuffle=True,\n",
        "      num_workers=0,    # subprocesses for loading data\n",
        "  )\n",
        "\n",
        "  # initialize NN weights\n",
        "  for name, param in MyNet.named_parameters():\n",
        "    if(param.requires_grad):\n",
        "      torch.nn.init.normal_(param, mean=0.0, std=0.02)\n",
        "  loss_func = torch.nn.MSELoss()\n",
        "  optimizer = torch.optim.Adam(MyNet.parameters(), lr=0.0003)\n",
        "\n",
        "  # train NN\n",
        "  print(\"epoch\", end=\": \")\n",
        "  epoch_lossLst=[]\n",
        "  for epoch in range(1, 300):\n",
        "    if(epoch%100 == 0):\n",
        "      print(epoch, end=\",\")\n",
        "    for (batchX, batchY) in loader:\n",
        "      batchY_hat = MyNet(batchX)\n",
        "      loss = loss_func(batchY_hat, batchY)\n",
        "      epoch_lossLst.append(float(loss))\n",
        "      optimizer.zero_grad()\n",
        "      loss.backward()\n",
        "      optimizer.step()\n",
        "  train_lossLst.append(epoch_lossLst)\n",
        "\n",
        "  tensorX = torch.FloatTensor(testX).to(device)\n",
        "  tensorY = torch.FloatTensor(testY).to(device)\n",
        "  tensorY_hat = MyNet(tensorX)\n",
        "  loss = loss_func(tensorY, tensorY_hat)\n",
        "  test_lossLst.append(float(loss))"
      ]
    },
    {
      "cell_type": "code",
      "source": [
        "#take a look at the train loss plot and box plot of test lost\n",
        "fig=plt.figure(figsize=(16, 6))\n",
        "\n",
        "fig.add_subplot(1, 2, 1) #1 row, 2 cols\n",
        "for lst in train_lossLst:\n",
        "  plt.plot(lst)\n",
        "plt.xlabel('Input')\n",
        "plt.ylabel('Loss')\n",
        "\n",
        "fig.add_subplot(1, 2, 2)\n",
        "plt.boxplot(test_lossLst)\n",
        "\n",
        "plt.grid()\n",
        "plt.show()"
      ],
      "metadata": {
        "id": "XlkLSmHBOFxv",
        "outputId": "1fcf6d9b-f256-4f2e-c8ad-7c1a7a5bc507",
        "colab": {
          "base_uri": "https://localhost:8080/",
          "height": 378
        }
      },
      "execution_count": null,
      "outputs": [
        {
          "output_type": "display_data",
          "data": {
            "text/plain": [
              "<Figure size 1152x432 with 2 Axes>"
            ],
            "image/png": "[encoded data removed]"
          },
          "metadata": {
            "needs_background": "light"
          }
        }
      ]
    }
  ],
  "metadata": {
    "accelerator": "GPU",
    "colab": {
      "provenance": [],
      "include_colab_link": true
    },
    "kernelspec": {
      "display_name": "Python 3",
      "language": "python",
      "name": "python3"
    },
    "language_info": {
      "codemirror_mode": {
        "name": "ipython",
        "version": 3
      },
      "file_extension": ".py",
      "mimetype": "text/x-python",
      "name": "python",
      "nbconvert_exporter": "python",
      "pygments_lexer": "ipython3",
      "version": "3.8.8"
    }
  },
  "nbformat": 4,
  "nbformat_minor": 0
}