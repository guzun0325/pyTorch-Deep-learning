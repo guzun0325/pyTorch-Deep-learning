{
  "nbformat": 4,
  "nbformat_minor": 0,
  "metadata": {
    "colab": {
      "provenance": []
    },
    "kernelspec": {
      "display_name": "Python 3",
      "language": "python",
      "name": "python3"
    },
    "language_info": {
      "codemirror_mode": {
        "name": "ipython",
        "version": 3
      },
      "file_extension": ".py",
      "mimetype": "text/x-python",
      "name": "python",
      "nbconvert_exporter": "python",
      "pygments_lexer": "ipython3",
      "version": "3.6.10"
    }
  },
  "cells": [
    {
      "cell_type": "code",
      "metadata": {
        "id": "a1kFKiHzQajW"
      },
      "source": [
        "import torch\n",
        "import torch.nn as nn"
      ],
      "execution_count": null,
      "outputs": []
    },
    {
      "cell_type": "code",
      "metadata": {
        "colab": {
          "base_uri": "https://localhost:8080/"
        },
        "id": "-MvLGgYaQajy",
        "outputId": "e176a745-5120-4434-af42-8136f1a430a9"
      },
      "source": [
        "MyNet = nn.Sequential(\n",
        "  nn.Linear(3, 1),\n",
        "  nn.ReLU(),\n",
        ")\n",
        "print(MyNet)"
      ],
      "execution_count": null,
      "outputs": [
        {
          "output_type": "stream",
          "name": "stdout",
          "text": [
            "Sequential(\n",
            "  (0): Linear(in_features=3, out_features=1, bias=True)\n",
            "  (1): ReLU()\n",
            ")\n"
          ]
        }
      ]
    },
    {
      "cell_type": "markdown",
      "source": [
        "### Test Activation function"
      ],
      "metadata": {
        "id": "Z0L8UTfWUg6X"
      }
    },
    {
      "cell_type": "code",
      "metadata": {
        "colab": {
          "base_uri": "https://localhost:8080/"
        },
        "id": "F_GSlqgcUvkJ",
        "outputId": "02c0debd-ee9d-4bfa-cb05-20e2fe104955"
      },
      "source": [
        "# test Relu activatio function\n",
        "relu = nn.ReLU()\n",
        "x = torch.FloatTensor([-0.23, -56.7, 34])\n",
        "relu(x)"
      ],
      "execution_count": null,
      "outputs": [
        {
          "output_type": "execute_result",
          "data": {
            "text/plain": [
              "tensor([ 0.,  0., 34.])"
            ]
          },
          "metadata": {},
          "execution_count": 3
        }
      ]
    },
    {
      "cell_type": "markdown",
      "metadata": {
        "id": "kWycYWx1P3-D"
      },
      "source": [
        "### 1 Dimention Neuron"
      ]
    },
    {
      "cell_type": "code",
      "metadata": {
        "colab": {
          "base_uri": "https://localhost:8080/"
        },
        "id": "TfDLpOKCQajk",
        "outputId": "b3307c56-eae1-4bb8-e437-d5cb71d49104"
      },
      "source": [
        "lstX_1 = [[1,2,3]]\n",
        "tensorX_1 = torch.FloatTensor(lstX_1)\n",
        "print(tensorX_1, \"\\n\", tensorX_1.shape)"
      ],
      "execution_count": null,
      "outputs": [
        {
          "output_type": "stream",
          "name": "stdout",
          "text": [
            "tensor([[1., 2., 3.]]) \n",
            " torch.Size([1, 3])\n"
          ]
        }
      ]
    },
    {
      "cell_type": "code",
      "metadata": {
        "colab": {
          "base_uri": "https://localhost:8080/"
        },
        "id": "h9pgtjB2Qaj0",
        "outputId": "b9d71511-0cd0-4806-d6f1-a134d33e3caa"
      },
      "source": [
        "for name, params in MyNet.named_parameters():\n",
        "    if params.requires_grad:\n",
        "        print(name, params.data)"
      ],
      "execution_count": null,
      "outputs": [
        {
          "output_type": "stream",
          "name": "stdout",
          "text": [
            "0.weight tensor([[ 0.0970, -0.1254,  0.5721]])\n",
            "0.bias tensor([0.5301])\n"
          ]
        }
      ]
    },
    {
      "cell_type": "markdown",
      "metadata": {
        "id": "e7NVj_EXMKZ3"
      },
      "source": [
        "1. Use Pytorch matrix multiplcation: tensor1.mm(tensor2) to calculate answer"
      ]
    },
    {
      "cell_type": "markdown",
      "metadata": {
        "id": "gky1aPX5Y5ic"
      },
      "source": [
        "$W0=(w1, w2, w3)$"
      ]
    },
    {
      "cell_type": "code",
      "metadata": {
        "colab": {
          "base_uri": "https://localhost:8080/"
        },
        "id": "Xv0bRAIqPsvh",
        "outputId": "aad11ff4-31fb-4833-8abb-21bdc2e1c3fc"
      },
      "source": [
        "W0 = MyNet[0].weight\n",
        "print(W0, W0.shape)"
      ],
      "execution_count": null,
      "outputs": [
        {
          "output_type": "stream",
          "name": "stdout",
          "text": [
            "Parameter containing:\n",
            "tensor([[ 0.0970, -0.1254,  0.5721]], requires_grad=True) torch.Size([1, 3])\n"
          ]
        }
      ]
    },
    {
      "cell_type": "markdown",
      "metadata": {
        "id": "1sDCu3vjZAlk"
      },
      "source": [
        "$W0T=(w1, w2, w3)T$"
      ]
    },
    {
      "cell_type": "code",
      "metadata": {
        "colab": {
          "base_uri": "https://localhost:8080/"
        },
        "id": "i7-i1v03RaVA",
        "outputId": "deb0d4d9-6cf3-4d05-b2e2-fa22629b4605"
      },
      "source": [
        "# transpose of W0\n",
        "W0t = torch.transpose(W0, 1, 0)\n",
        "print(W0t, W0t.shape)"
      ],
      "execution_count": null,
      "outputs": [
        {
          "output_type": "stream",
          "name": "stdout",
          "text": [
            "tensor([[ 0.0970],\n",
            "        [-0.1254],\n",
            "        [ 0.5721]], grad_fn=<TransposeBackward0>) torch.Size([3, 1])\n"
          ]
        }
      ]
    },
    {
      "cell_type": "markdown",
      "metadata": {
        "id": "sCPLHiQbZJp8"
      },
      "source": [
        "$x*W0T=(x1, x2, x3)(w1, w2, w3)T$"
      ]
    },
    {
      "cell_type": "code",
      "metadata": {
        "colab": {
          "base_uri": "https://localhost:8080/"
        },
        "id": "_7k43QsrPIHJ",
        "outputId": "9f635354-67a9-4f56-d741-f323d8888e05"
      },
      "source": [
        "tensorX_1.mm(W0t)"
      ],
      "execution_count": null,
      "outputs": [
        {
          "output_type": "execute_result",
          "data": {
            "text/plain": [
              "tensor([[1.5626]], grad_fn=<MmBackward0>)"
            ]
          },
          "metadata": {},
          "execution_count": 8
        }
      ]
    },
    {
      "cell_type": "markdown",
      "metadata": {
        "id": "6LshT2nuZUYE"
      },
      "source": [
        "$x*W0T + b=(x1, x2, x3)(w1, w2, w3)T+b$"
      ]
    },
    {
      "cell_type": "code",
      "metadata": {
        "colab": {
          "base_uri": "https://localhost:8080/"
        },
        "id": "csq95L-dT-KF",
        "outputId": "e263d697-f44f-4fdd-c1c5-6c4137cd6717"
      },
      "source": [
        "tensorX_1.mm(W0t)+MyNet[0].bias"
      ],
      "execution_count": null,
      "outputs": [
        {
          "output_type": "execute_result",
          "data": {
            "text/plain": [
              "tensor([[2.0927]], grad_fn=<AddBackward0>)"
            ]
          },
          "metadata": {},
          "execution_count": 9
        }
      ]
    },
    {
      "cell_type": "markdown",
      "metadata": {
        "id": "QB_quVFEZbYi"
      },
      "source": [
        "$Relu(x*W0T + b)=Relu((x1, x2, x3)(w1, w2, w3)T+b)$"
      ]
    },
    {
      "cell_type": "code",
      "metadata": {
        "colab": {
          "base_uri": "https://localhost:8080/"
        },
        "id": "9R2ciSdmUG4C",
        "outputId": "048cfaee-6d41-46ab-d3a4-9815a506b828"
      },
      "source": [
        "relu(tensorX_1.mm(W0t)+MyNet[0].bias)"
      ],
      "execution_count": null,
      "outputs": [
        {
          "output_type": "execute_result",
          "data": {
            "text/plain": [
              "tensor([[2.0927]], grad_fn=<ReluBackward0>)"
            ]
          },
          "metadata": {},
          "execution_count": 10
        }
      ]
    },
    {
      "cell_type": "markdown",
      "metadata": {
        "id": "SvIf9d_w_OMU"
      },
      "source": [
        "### 3 Dimention Neuron"
      ]
    },
    {
      "cell_type": "code",
      "metadata": {
        "colab": {
          "base_uri": "https://localhost:8080/"
        },
        "outputId": "95d3667d-a2b7-43b0-8b1a-40fc52e2e9a8",
        "id": "r24p-7Xs_OMZ"
      },
      "source": [
        "lstX_2 = [[1,2,3],[4,5,6],[7,8,9]]\n",
        "tensorX_2 = torch.FloatTensor(lstX_2)\n",
        "print(tensorX_2, \"\\n\", tensorX_2.shape)"
      ],
      "execution_count": null,
      "outputs": [
        {
          "output_type": "stream",
          "name": "stdout",
          "text": [
            "tensor([[1., 2., 3.],\n",
            "        [4., 5., 6.],\n",
            "        [7., 8., 9.]]) \n",
            " torch.Size([3, 3])\n"
          ]
        }
      ]
    },
    {
      "cell_type": "markdown",
      "metadata": {
        "id": "HkEPJoOZ_OMa"
      },
      "source": [
        "1. Use Pytorch matrix multiplcation: tensor1.mm(tensor2) to calculate answer"
      ]
    },
    {
      "cell_type": "markdown",
      "metadata": {
        "id": "WHZ9mJYL_OMb"
      },
      "source": [
        "$x*W0T + b=(x1, x2, x3)(w1, w2, w3)T+b$"
      ]
    },
    {
      "cell_type": "code",
      "metadata": {
        "colab": {
          "base_uri": "https://localhost:8080/"
        },
        "outputId": "e38f5eee-636d-4166-8d1d-8a68a47f4aa0",
        "id": "kADxq2Xo_OMb"
      },
      "source": [
        "tensorX_2.mm(W0t)+MyNet[0].bias"
      ],
      "execution_count": null,
      "outputs": [
        {
          "output_type": "execute_result",
          "data": {
            "text/plain": [
              "tensor([[2.0927],\n",
              "        [3.7238],\n",
              "        [5.3550]], grad_fn=<AddBackward0>)"
            ]
          },
          "metadata": {},
          "execution_count": 12
        }
      ]
    },
    {
      "cell_type": "markdown",
      "metadata": {
        "id": "0MWUQSzw_OMb"
      },
      "source": [
        "$Relu(x*W0T + b)=Relu((x1, x2, x3)(w1, w2, w3)T+b)$"
      ]
    },
    {
      "cell_type": "code",
      "metadata": {
        "colab": {
          "base_uri": "https://localhost:8080/"
        },
        "outputId": "64715458-121e-49b2-c4d0-19cf3b04b261",
        "id": "r3QsBmlY_OMb"
      },
      "source": [
        "relu(tensorX_2.mm(W0t)+MyNet[0].bias)"
      ],
      "execution_count": null,
      "outputs": [
        {
          "output_type": "execute_result",
          "data": {
            "text/plain": [
              "tensor([[2.0927],\n",
              "        [3.7238],\n",
              "        [5.3550]], grad_fn=<ReluBackward0>)"
            ]
          },
          "metadata": {},
          "execution_count": 13
        }
      ]
    }
  ]
}