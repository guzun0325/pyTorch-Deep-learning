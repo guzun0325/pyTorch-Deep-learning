{
  "nbformat": 4,
  "nbformat_minor": 0,
  "metadata": {
    "colab": {
      "provenance": []
    },
    "kernelspec": {
      "display_name": "Python 3",
      "language": "python",
      "name": "python3"
    },
    "language_info": {
      "codemirror_mode": {
        "name": "ipython",
        "version": 3
      },
      "file_extension": ".py",
      "mimetype": "text/x-python",
      "name": "python",
      "nbconvert_exporter": "python",
      "pygments_lexer": "ipython3",
      "version": "3.6.10"
    }
  },
  "cells": [
    {
      "cell_type": "code",
      "metadata": {
        "id": "a1kFKiHzQajW"
      },
      "source": [
        "import torch\n",
        "import torch.nn as nn"
      ],
      "execution_count": null,
      "outputs": []
    },
    {
      "cell_type": "code",
      "metadata": {
        "colab": {
          "base_uri": "https://localhost:8080/"
        },
        "id": "-MvLGgYaQajy",
        "outputId": "8cada771-366c-4e87-f70a-de786b0ed6af"
      },
      "source": [
        "MyNet = nn.Sequential(\n",
        "  nn.Linear(3, 1),\n",
        "  nn.ReLU(),\n",
        ")\n",
        "print(MyNet)"
      ],
      "execution_count": null,
      "outputs": [
        {
          "output_type": "stream",
          "name": "stdout",
          "text": [
            "Sequential(\n",
            "  (0): Linear(in_features=3, out_features=1, bias=True)\n",
            "  (1): ReLU()\n",
            ")\n"
          ]
        }
      ]
    },
    {
      "cell_type": "markdown",
      "metadata": {
        "id": "kWycYWx1P3-D"
      },
      "source": [
        "### Prepare input data"
      ]
    },
    {
      "cell_type": "code",
      "metadata": {
        "colab": {
          "base_uri": "https://localhost:8080/"
        },
        "id": "TfDLpOKCQajk",
        "outputId": "7c92ffbd-0397-43a6-8ef9-2f7a65d88fac"
      },
      "source": [
        "lstX = [[1,2,3],[4,5,6],[7,8,9]]\n",
        "tensorX = torch.FloatTensor(lstX)\n",
        "print(tensorX, \"\\n\", tensorX.shape)"
      ],
      "execution_count": null,
      "outputs": [
        {
          "output_type": "stream",
          "name": "stdout",
          "text": [
            "tensor([[1., 2., 3.],\n",
            "        [4., 5., 6.],\n",
            "        [7., 8., 9.]]) \n",
            " torch.Size([3, 3])\n"
          ]
        }
      ]
    },
    {
      "cell_type": "code",
      "metadata": {
        "colab": {
          "base_uri": "https://localhost:8080/"
        },
        "id": "h9pgtjB2Qaj0",
        "outputId": "808d27cf-de6d-43fa-9383-2ddee4162d2e"
      },
      "source": [
        "for name, params in MyNet.named_parameters():\n",
        "    if params.requires_grad:\n",
        "        print(name, params.data)"
      ],
      "execution_count": null,
      "outputs": [
        {
          "output_type": "stream",
          "name": "stdout",
          "text": [
            "0.weight tensor([[-0.1287, -0.3801,  0.3944]])\n",
            "0.bias tensor([-0.4094])\n"
          ]
        }
      ]
    },
    {
      "cell_type": "markdown",
      "metadata": {
        "id": "e7NVj_EXMKZ3"
      },
      "source": [
        "1. Use Pytorch matrix multiplcation: tensor1.mm(tensor2) to calculate answer"
      ]
    },
    {
      "cell_type": "code",
      "metadata": {
        "colab": {
          "base_uri": "https://localhost:8080/"
        },
        "id": "Xv0bRAIqPsvh",
        "outputId": "d24805f2-6211-4319-9c34-cb9677b43d25"
      },
      "source": [
        "W0 = MyNet[0].weight\n",
        "print(W0, W0.shape)"
      ],
      "execution_count": null,
      "outputs": [
        {
          "output_type": "stream",
          "name": "stdout",
          "text": [
            "Parameter containing:\n",
            "tensor([[-0.1287, -0.3801,  0.3944]], requires_grad=True) torch.Size([1, 3])\n"
          ]
        }
      ]
    },
    {
      "cell_type": "code",
      "metadata": {
        "colab": {
          "base_uri": "https://localhost:8080/"
        },
        "id": "i7-i1v03RaVA",
        "outputId": "ac3a41a1-33dd-4a6e-ed60-b896307392af"
      },
      "source": [
        "# transpose of W0\n",
        "W0t = torch.transpose(W0, 1, 0)\n",
        "print(W0t, W0t.shape)"
      ],
      "execution_count": null,
      "outputs": [
        {
          "output_type": "stream",
          "name": "stdout",
          "text": [
            "tensor([[-0.1287],\n",
            "        [-0.3801],\n",
            "        [ 0.3944]], grad_fn=<TransposeBackward0>) torch.Size([3, 1])\n"
          ]
        }
      ]
    },
    {
      "cell_type": "code",
      "metadata": {
        "colab": {
          "base_uri": "https://localhost:8080/"
        },
        "id": "_7k43QsrPIHJ",
        "outputId": "0d97a60d-724b-4dc5-e861-0b875f02ddfd"
      },
      "source": [
        "tensorX.mm(W0t)"
      ],
      "execution_count": null,
      "outputs": [
        {
          "output_type": "execute_result",
          "data": {
            "text/plain": [
              "tensor([[ 0.2942],\n",
              "        [-0.0492],\n",
              "        [-0.3925]], grad_fn=<MmBackward0>)"
            ]
          },
          "metadata": {},
          "execution_count": 7
        }
      ]
    },
    {
      "cell_type": "code",
      "metadata": {
        "colab": {
          "base_uri": "https://localhost:8080/"
        },
        "id": "csq95L-dT-KF",
        "outputId": "9e1a5c9d-70f3-4a54-cce5-0b710c8dd7a6"
      },
      "source": [
        "tensorX.mm(W0t)+MyNet[0].bias"
      ],
      "execution_count": null,
      "outputs": [
        {
          "output_type": "execute_result",
          "data": {
            "text/plain": [
              "tensor([[-0.1153],\n",
              "        [-0.4586],\n",
              "        [-0.8020]], grad_fn=<AddBackward0>)"
            ]
          },
          "metadata": {},
          "execution_count": 8
        }
      ]
    },
    {
      "cell_type": "code",
      "metadata": {
        "id": "5b7oVFUCcjEK"
      },
      "source": [
        "relu = nn.ReLU()"
      ],
      "execution_count": null,
      "outputs": []
    },
    {
      "cell_type": "code",
      "metadata": {
        "colab": {
          "base_uri": "https://localhost:8080/"
        },
        "id": "9R2ciSdmUG4C",
        "outputId": "a7d9cba6-ab34-4747-c6e2-c8f3daed7a8d"
      },
      "source": [
        "relu(tensorX.mm(W0t)+MyNet[0].bias)"
      ],
      "execution_count": null,
      "outputs": [
        {
          "output_type": "execute_result",
          "data": {
            "text/plain": [
              "tensor([[0.6927],\n",
              "        [1.8030],\n",
              "        [2.9133]], grad_fn=<ReluBackward0>)"
            ]
          },
          "metadata": {},
          "execution_count": 10
        }
      ]
    },
    {
      "cell_type": "markdown",
      "metadata": {
        "id": "d9VaI_EJLGTO"
      },
      "source": [
        "2. Try different activation function"
      ]
    },
    {
      "cell_type": "code",
      "source": [
        "Sigmoid = nn.Sigmoid()\n",
        "Sigmoid(tensorX.mm(W0t)+MyNet[0].bias)"
      ],
      "metadata": {
        "id": "06evH6Zv9dI-"
      },
      "execution_count": null,
      "outputs": []
    },
    {
      "cell_type": "code",
      "source": [
        "Tanh = nn.Tanh()\n",
        "Tanh(tensorX.mm(W0t)+MyNet[0].bias)"
      ],
      "metadata": {
        "id": "f4xlh5zY9853"
      },
      "execution_count": null,
      "outputs": []
    }
  ]
}